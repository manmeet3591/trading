{
 "cells": [
  {
   "cell_type": "code",
   "execution_count": 2,
   "id": "technical-peoples",
   "metadata": {},
   "outputs": [],
   "source": [
    "import numpy as np\n",
    "import pandas as pd\n",
    "import matplotlib.pyplot as plt\n",
    "import seaborn as sns\n",
    "import websocket, json\n",
    "sns.set()"
   ]
  },
  {
   "cell_type": "code",
   "execution_count": 3,
   "id": "liable-sussex",
   "metadata": {},
   "outputs": [],
   "source": [
    "#df = pd.read_csv('../dataset/GOOG-year.csv')\n",
    "#df.head()\n",
    "endpoint = \"wss://stream.binance.com:9443/ws/btcusdt@bookTicker\""
   ]
  },
  {
   "cell_type": "code",
   "execution_count": 4,
   "id": "maritime-russell",
   "metadata": {},
   "outputs": [],
   "source": [
    "def buy_stock(\n",
    "    real_movement,\n",
    "    delay = 5,\n",
    "    initial_state = 1,\n",
    "    initial_money = 10000,\n",
    "    max_buy = 1,\n",
    "    max_sell = 1,\n",
    "):\n",
    "    \"\"\"\n",
    "    real_movement = actual movement in the real world\n",
    "    delay = how much interval you want to delay to change our decision from buy to sell, vice versa\n",
    "    initial_state = 1 is buy, 0 is sell\n",
    "    initial_money = 1000, ignore what kind of currency\n",
    "    max_buy = max quantity for share to buy\n",
    "    max_sell = max quantity for share to sell\n",
    "    \"\"\"\n",
    "    starting_money = initial_money\n",
    "    delay_change_decision = delay\n",
    "    current_decision = 0\n",
    "    state = initial_state\n",
    "    current_val = real_movement[0]\n",
    "    states_sell = []\n",
    "    states_buy = []\n",
    "    current_inventory = 0\n",
    "\n",
    "    def buy(i, initial_money, current_inventory):\n",
    "        shares = initial_money // real_movement[i]\n",
    "        if shares < 1:\n",
    "            print(\n",
    "                'day %d: total balances %f, not enough money to buy a unit price %f'\n",
    "                % (i, initial_money, real_movement[i])\n",
    "            )\n",
    "        else:\n",
    "            if shares > max_buy:\n",
    "                buy_units = max_buy\n",
    "            else:\n",
    "                buy_units = shares\n",
    "            initial_money -= buy_units * real_movement[i]\n",
    "            current_inventory += buy_units\n",
    "            print(\n",
    "                'day %d: buy %d units at price %f, total balance %f'\n",
    "                % (i, buy_units, buy_units * real_movement[i], initial_money)\n",
    "            )\n",
    "            states_buy.append(0)\n",
    "        return initial_money, current_inventory\n",
    "\n",
    "    if state == 1:\n",
    "        initial_money, current_inventory = buy(\n",
    "            0, initial_money, current_inventory\n",
    "        )\n",
    "\n",
    "    for i in range(1, real_movement.shape[0], 1):\n",
    "        if real_movement[i] < current_val and state == 0:\n",
    "            if current_decision < delay_change_decision:\n",
    "                current_decision += 1\n",
    "            else:\n",
    "                state = 1\n",
    "                initial_money, current_inventory = buy(\n",
    "                    i, initial_money, current_inventory\n",
    "                )\n",
    "                current_decision = 0\n",
    "                states_buy.append(i)\n",
    "        if real_movement[i] > current_val and state == 1:\n",
    "            if current_decision < delay_change_decision:\n",
    "                current_decision += 1\n",
    "            else:\n",
    "                state = 0\n",
    "\n",
    "                if current_inventory == 0:\n",
    "                    print('day %d: cannot sell anything, inventory 0' % (i))\n",
    "                else:\n",
    "                    if current_inventory > max_sell:\n",
    "                        sell_units = max_sell\n",
    "                    else:\n",
    "                        sell_units = current_inventory\n",
    "                    current_inventory -= sell_units\n",
    "                    total_sell = sell_units * real_movement[i]\n",
    "                    initial_money += total_sell\n",
    "                    try:\n",
    "                        invest = (\n",
    "                            (real_movement[i] - real_movement[states_buy[-1]])\n",
    "                            / real_movement[states_buy[-1]]\n",
    "                        ) * 100\n",
    "                    except:\n",
    "                        invest = 0\n",
    "                    print(\n",
    "                        'day %d, sell %d units at price %f, investment %f %%, total balance %f,'\n",
    "                        % (i, sell_units, total_sell, invest, initial_money)\n",
    "                    )\n",
    "\n",
    "                current_decision = 0\n",
    "                states_sell.append(i)\n",
    "        current_val = real_movement[i]\n",
    "    invest = ((initial_money - starting_money) / starting_money) * 100\n",
    "    total_gains = initial_money - starting_money\n",
    "    return states_buy, states_sell, total_gains, invest"
   ]
  },
  {
   "cell_type": "code",
   "execution_count": 5,
   "id": "jewish-insurance",
   "metadata": {},
   "outputs": [
    {
     "ename": "NameError",
     "evalue": "name 'df' is not defined",
     "output_type": "error",
     "traceback": [
      "\u001b[0;31m---------------------------------------------------------------------------\u001b[0m",
      "\u001b[0;31mNameError\u001b[0m                                 Traceback (most recent call last)",
      "\u001b[0;32m<ipython-input-5-2ee5c674bd00>\u001b[0m in \u001b[0;36m<module>\u001b[0;34m\u001b[0m\n\u001b[0;32m----> 1\u001b[0;31m states_buy, states_sell, total_gains, invest = buy_stock(df.Close, initial_state = 1, \n\u001b[0m\u001b[1;32m      2\u001b[0m                                                          delay = 4, initial_money = 10000)\n",
      "\u001b[0;31mNameError\u001b[0m: name 'df' is not defined"
     ]
    }
   ],
   "source": [
    "states_buy, states_sell, total_gains, invest = buy_stock(df.Close, initial_state = 1, \n",
    "                                                         delay = 4, initial_money = 10000)"
   ]
  },
  {
   "cell_type": "code",
   "execution_count": 6,
   "id": "revolutionary-thomas",
   "metadata": {},
   "outputs": [
    {
     "name": "stdout",
     "output_type": "stream",
     "text": [
      "Connection started\n",
      "\n"
     ]
    },
    {
     "data": {
      "text/plain": [
       "False"
      ]
     },
     "execution_count": 6,
     "metadata": {},
     "output_type": "execute_result"
    }
   ],
   "source": [
    "def on_open(ws):\n",
    "    print(\"Connection started\")\n",
    "\n",
    "def on_message(ws, message):\n",
    "    states_buy, states_sell, total_gains, invest = buy_stock(df.Close, initial_state = 1, \n",
    "                                                         delay = 4, initial_money = 10000)\n",
    "\n",
    "def on_error(ws, error):\n",
    "    print(error)\n",
    "\n",
    "def on_close(ws):\n",
    "    print(\"Connection closed\")\n",
    "\n",
    "ws = websocket.WebSocketApp(endpoint,\n",
    "                            on_open = on_open,\n",
    "                            on_message = on_message,\n",
    "                            on_error = on_error,\n",
    "                            on_close = on_close)\n",
    "\n",
    "ws.run_forever()\n"
   ]
  },
  {
   "cell_type": "code",
   "execution_count": null,
   "id": "appropriate-cambodia",
   "metadata": {},
   "outputs": [],
   "source": []
  }
 ],
 "metadata": {
  "kernelspec": {
   "display_name": "Python 3",
   "language": "python",
   "name": "python3"
  },
  "language_info": {
   "codemirror_mode": {
    "name": "ipython",
    "version": 3
   },
   "file_extension": ".py",
   "mimetype": "text/x-python",
   "name": "python",
   "nbconvert_exporter": "python",
   "pygments_lexer": "ipython3",
   "version": "3.6.13"
  }
 },
 "nbformat": 4,
 "nbformat_minor": 5
}
